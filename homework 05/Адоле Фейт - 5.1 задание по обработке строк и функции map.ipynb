{
 "cells": [
  {
   "cell_type": "code",
   "execution_count": 8,
   "id": "d8f8232d",
   "metadata": {},
   "outputs": [
    {
     "name": "stdout",
     "output_type": "stream",
     "text": [
      "1 2 3 4 5\n",
      "1 3 5\n"
     ]
    }
   ],
   "source": [
    "# Exercise 1\n",
    "\n",
    "print(' '.join(input().split()[::2]))"
   ]
  },
  {
   "cell_type": "code",
   "execution_count": 10,
   "id": "116d3c98",
   "metadata": {},
   "outputs": [
    {
     "name": "stdout",
     "output_type": "stream",
     "text": [
      "1 2 3 2 1 \n",
      "3 2\n"
     ]
    }
   ],
   "source": [
    "# Exercise 2\n",
    "\n",
    "A = input().split()\n",
    "print(max(A), A.index(max(A)))"
   ]
  },
  {
   "cell_type": "code",
   "execution_count": 11,
   "id": "8d53dbf7",
   "metadata": {},
   "outputs": [
    {
     "name": "stdout",
     "output_type": "stream",
     "text": [
      "1 2 3 4 5 \n",
      "5 4 3 2 1\n"
     ]
    }
   ],
   "source": [
    "# Exercise 3\n",
    "\n",
    "print(' '.join(input().split()[::-1]))"
   ]
  },
  {
   "cell_type": "code",
   "execution_count": 16,
   "id": "a52f22b8",
   "metadata": {},
   "outputs": [
    {
     "name": "stdout",
     "output_type": "stream",
     "text": [
      "1 2 3 4 5\n",
      "2 1 4 3 5\n"
     ]
    }
   ],
   "source": [
    "# Exercise 4 \n",
    "\n",
    "A = input().split()\n",
    "A = [A[i+1] if i % 2 == 0 and i+1 < len(A) else A[i-1] if i % 2 != 0 else A[i] for i in range(len(A))]\n",
    "print(' '.join(A))"
   ]
  },
  {
   "cell_type": "code",
   "execution_count": 17,
   "id": "6874e9d2",
   "metadata": {},
   "outputs": [
    {
     "name": "stdout",
     "output_type": "stream",
     "text": [
      "1 2 3 4 5 \n",
      "5 1 2 3 4\n"
     ]
    }
   ],
   "source": [
    "# Exercise 5\n",
    "\n",
    "A = input().split()\n",
    "print(' '.join(A[-1:] + A[:-1]))\n"
   ]
  },
  {
   "cell_type": "code",
   "execution_count": 5,
   "id": "7a3b00d6",
   "metadata": {},
   "outputs": [
    {
     "name": "stdout",
     "output_type": "stream",
     "text": [
      "7 6 5 4 3 2 1\n",
      "2\n",
      "7 6 4 3 2 1\n"
     ]
    }
   ],
   "source": [
    "# Exercise 6\n",
    "\n",
    "a, n = input().split(), int(input())\n",
    "a.remove(a[n])\n",
    "print(' '.join(a))\n"
   ]
  },
  {
   "cell_type": "code",
   "execution_count": 1,
   "id": "199f1ad8",
   "metadata": {},
   "outputs": [
    {
     "name": "stdout",
     "output_type": "stream",
     "text": [
      "7 6 5 4 3 2 1\n",
      "2 0\n",
      "7 6 0 5 4 3 2 1\n"
     ]
    }
   ],
   "source": [
    "# Exercise 7\n",
    "\n",
    "a = input().split()\n",
    "n, elem = map(int, input().split())\n",
    "print(' '.join(a[:n] + [f\"{elem}\"] + a[n:]))"
   ]
  },
  {
   "cell_type": "code",
   "execution_count": 2,
   "id": "45ae2fbd",
   "metadata": {},
   "outputs": [
    {
     "name": "stdout",
     "output_type": "stream",
     "text": [
      "5 3 7 4 6\n",
      "3\n",
      "7 4 6 5 3\n"
     ]
    }
   ],
   "source": [
    "a, n = input().split(), int(input())\n",
    "print(' '.join(a[n-1:] + a[:n-1]))"
   ]
  },
  {
   "cell_type": "code",
   "execution_count": null,
   "id": "058683cc",
   "metadata": {},
   "outputs": [],
   "source": []
  }
 ],
 "metadata": {
  "kernelspec": {
   "display_name": "Python 3 (ipykernel)",
   "language": "python",
   "name": "python3"
  },
  "language_info": {
   "codemirror_mode": {
    "name": "ipython",
    "version": 3
   },
   "file_extension": ".py",
   "mimetype": "text/x-python",
   "name": "python",
   "nbconvert_exporter": "python",
   "pygments_lexer": "ipython3",
   "version": "3.8.5"
  }
 },
 "nbformat": 4,
 "nbformat_minor": 5
}
