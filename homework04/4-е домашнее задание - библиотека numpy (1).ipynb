{
 "cells": [
  {
   "cell_type": "markdown",
   "metadata": {},
   "source": [
    "АДОЛЕ ФЕЙТ ЭНЕ\n",
    "НПМБД 02 - 20\n",
    "\n",
    "\n",
    "\n",
    "\n",
    "## 4-е домашнее задание - Библиотека numpy\n",
    "\n",
    "Подпишите этот блокнот: укажите ФИО и номер группы. Выполненное задание загрузите в свой репозиторий «<b>Spring2023Python</b>» в github в папку \"<b>homework04</b>\".  \n",
    "\n",
    "Перед выполнением этого домашнего задания полезно прочитать про возможности и основные методы библиотеки numpy:  \n",
    "http://acm.mipt.ru/twiki/bin/view/Cintro/PythonNumpy  \n"
   ]
  },
  {
   "cell_type": "markdown",
   "metadata": {},
   "source": [
    "1.\tСоздайте равномерное разбиение интервала от -1.3 до 2.5 на 64 отрезка."
   ]
  },
  {
   "cell_type": "code",
   "execution_count": 3,
   "metadata": {},
   "outputs": [
    {
     "name": "stdout",
     "output_type": "stream",
     "text": [
      "[-1.3      -1.240625 -1.18125  -1.121875 -1.0625   -1.003125 -0.94375\n",
      " -0.884375 -0.825    -0.765625 -0.70625  -0.646875 -0.5875   -0.528125\n",
      " -0.46875  -0.409375 -0.35     -0.290625 -0.23125  -0.171875 -0.1125\n",
      " -0.053125  0.00625   0.065625  0.125     0.184375  0.24375   0.303125\n",
      "  0.3625    0.421875  0.48125   0.540625  0.6       0.659375  0.71875\n",
      "  0.778125  0.8375    0.896875  0.95625   1.015625  1.075     1.134375\n",
      "  1.19375   1.253125  1.3125    1.371875  1.43125   1.490625  1.55\n",
      "  1.609375  1.66875   1.728125  1.7875    1.846875  1.90625   1.965625\n",
      "  2.025     2.084375  2.14375   2.203125  2.2625    2.321875  2.38125\n",
      "  2.440625  2.5     ]\n"
     ]
    }
   ],
   "source": [
    "import numpy as np\n",
    "\n",
    "start = -1.3\n",
    "end = 2.5\n",
    "num_segments = 64\n",
    "\n",
    "# Создаем равномерное разбиение интервала\n",
    "intervals = np.linspace(start, end, num_segments+1)\n",
    "\n",
    "# Печатаем массив\n",
    "print(intervals)\n",
    "\n",
    "\n"
   ]
  },
  {
   "cell_type": "markdown",
   "metadata": {},
   "source": [
    "2.\tСгенерируйте numpy массив длины $3n$, заполненный циклически числами 1, 2, 3, 1, 2, 3, 1...."
   ]
  },
  {
   "cell_type": "code",
   "execution_count": 4,
   "metadata": {},
   "outputs": [
    {
     "name": "stdout",
     "output_type": "stream",
     "text": [
      "[1 2 3 1 2 3 1 2 3]\n"
     ]
    }
   ],
   "source": [
    "import numpy as np\n",
    "\n",
    "def generate_cyclic_array(n):\n",
    "    cyclic_pattern = np.array([1, 2, 3])\n",
    "    length = 3 * n\n",
    "    cyclic_array = np.tile(cyclic_pattern, n)[:length]\n",
    "    return cyclic_array\n",
    "\n",
    "n = 5 # Замените значение n на желаемое\n",
    "result_array = generate_cyclic_array(n)\n",
    "print(result_array)\n"
   ]
  },
  {
   "cell_type": "markdown",
   "metadata": {},
   "source": [
    "3.\tСоздайте массив первых 10 нечетных целых чисел."
   ]
  },
  {
   "cell_type": "code",
   "execution_count": 5,
   "metadata": {},
   "outputs": [
    {
     "name": "stdout",
     "output_type": "stream",
     "text": [
      "[1, 3, 5, 7, 9, 11, 13, 15, 17, 19]\n"
     ]
    }
   ],
   "source": [
    "# Создаем пустой массив\n",
    "odd_numbers = []\n",
    "\n",
    "# Используем цикл для генерации первых 10 нечетных чисел\n",
    "for i in range(1, 20, 2):\n",
    "    odd_numbers.append(i)\n",
    "\n",
    "# Выводим результат\n",
    "print(odd_numbers)\n"
   ]
  },
  {
   "cell_type": "markdown",
   "metadata": {},
   "source": [
    "4.  Создайте массив нулей размера 10 x 10, а затем создайте в нём \"рамку\" из единиц по краям."
   ]
  },
  {
   "cell_type": "code",
   "execution_count": 6,
   "metadata": {},
   "outputs": [
    {
     "name": "stdout",
     "output_type": "stream",
     "text": [
      "[[1. 1. 1. 1. 1. 1. 1. 1. 1. 1.]\n",
      " [1. 0. 0. 0. 0. 0. 0. 0. 0. 1.]\n",
      " [1. 0. 0. 0. 0. 0. 0. 0. 0. 1.]\n",
      " [1. 0. 0. 0. 0. 0. 0. 0. 0. 1.]\n",
      " [1. 0. 0. 0. 0. 0. 0. 0. 0. 1.]\n",
      " [1. 0. 0. 0. 0. 0. 0. 0. 0. 1.]\n",
      " [1. 0. 0. 0. 0. 0. 0. 0. 0. 1.]\n",
      " [1. 0. 0. 0. 0. 0. 0. 0. 0. 1.]\n",
      " [1. 0. 0. 0. 0. 0. 0. 0. 0. 1.]\n",
      " [1. 1. 1. 1. 1. 1. 1. 1. 1. 1.]]\n"
     ]
    }
   ],
   "source": [
    "import numpy as np\n",
    "\n",
    "# Создаем массив нулей размера 10x10\n",
    "arr = np.zeros((10, 10))\n",
    "\n",
    "# Добавляем \"рамку\" из единиц по краям\n",
    "arr[0, :] = 1  # Первая строка\n",
    "arr[-1, :] = 1  # Последняя строка\n",
    "arr[:, 0] = 1  # Первый столбец\n",
    "arr[:, -1] = 1  # Последний столбец\n",
    "\n",
    "print(arr)\n"
   ]
  },
  {
   "cell_type": "markdown",
   "metadata": {},
   "source": [
    "5.  Создайте массив 8 x 8 с шахматной доской из нулей и единиц."
   ]
  },
  {
   "cell_type": "code",
   "execution_count": 7,
   "metadata": {},
   "outputs": [
    {
     "name": "stdout",
     "output_type": "stream",
     "text": [
      "[0, 1, 0, 1, 0, 1, 0, 1]\n",
      "[1, 0, 1, 0, 1, 0, 1, 0]\n",
      "[0, 1, 0, 1, 0, 1, 0, 1]\n",
      "[1, 0, 1, 0, 1, 0, 1, 0]\n",
      "[0, 1, 0, 1, 0, 1, 0, 1]\n",
      "[1, 0, 1, 0, 1, 0, 1, 0]\n",
      "[0, 1, 0, 1, 0, 1, 0, 1]\n",
      "[1, 0, 1, 0, 1, 0, 1, 0]\n"
     ]
    }
   ],
   "source": [
    "# Создаем массив размером 8x8\n",
    "chessboard = [[0 for _ in range(8)] for _ in range(8)]\n",
    "\n",
    "# Заполняем шахматную доску\n",
    "for i in range(8):\n",
    "    for j in range(8):\n",
    "        # Проверяем, должно ли поле содержать единицу\n",
    "        if (i + j) % 2 == 1:\n",
    "            chessboard[i][j] = 1\n",
    "\n",
    "# Выводим шахматную доску\n",
    "for row in chessboard:\n",
    "    print(row)\n"
   ]
  },
  {
   "cell_type": "markdown",
   "metadata": {},
   "source": [
    "6.  Создайте функцию, которая создает $n×n$ матрицу с $(i,j)$-элементом, равным $i+j$."
   ]
  },
  {
   "cell_type": "code",
   "execution_count": 5,
   "metadata": {},
   "outputs": [
    {
     "name": "stdout",
     "output_type": "stream",
     "text": [
      "[[0, 1, 2, 3, 4], [1, 2, 3, 4, 5], [2, 3, 4, 5, 6], [3, 4, 5, 6, 7], [4, 5, 6, 7, 8]]\n"
     ]
    }
   ],
   "source": [
    "def create_matrix(n):\n",
    "    matrix = []\n",
    "    for i in range(n):\n",
    "        row = []\n",
    "        for j in range(n):\n",
    "            row.append(i + j)\n",
    "        matrix.append(row)\n",
    "    return matrix\n",
    "\n",
    "# Пример использования функции для создания матрицы 4x4\n",
    "matrix = create_matrix(5)\n",
    "print(matrix)\n"
   ]
  },
  {
   "cell_type": "markdown",
   "metadata": {},
   "source": [
    "7. Примените функцию dot для перемножения вектор на вектор, матрицу на вектор и матрицу на матрицу."
   ]
  },
  {
   "cell_type": "code",
   "execution_count": 7,
   "metadata": {},
   "outputs": [
    {
     "name": "stdout",
     "output_type": "stream",
     "text": [
      "Vector dot product: 32\n",
      "Matrix-vector multiplication:\n",
      "[ 28  64 100]\n",
      "Matrix-matrix multiplication:\n",
      "[[ 22  28]\n",
      " [ 49  64]\n",
      " [ 76 100]]\n"
     ]
    }
   ],
   "source": [
    "import numpy as np\n",
    "\n",
    "# Vector dot product\n",
    "vector_a = np.array([1, 2, 3])\n",
    "vector_b = np.array([4, 5, 6])\n",
    "dot_product = np.dot(vector_a, vector_b)\n",
    "print(\"Vector dot product:\", dot_product)\n",
    "\n",
    "# Matrix-vector multiplication\n",
    "matrix_a = np.array([[1, 2, 3], [4, 5, 6], [7, 8, 9]])\n",
    "vector_c = np.array([2, 4, 6])\n",
    "result_vector = np.dot(matrix_a, vector_c)\n",
    "print(\"Matrix-vector multiplication:\")\n",
    "print(result_vector)\n",
    "\n",
    "# Matrix-matrix multiplication\n",
    "matrix_b = np.array([[1, 2], [3, 4], [5, 6]])\n",
    "result_matrix = np.dot(matrix_a, matrix_b)\n",
    "print(\"Matrix-matrix multiplication:\")\n",
    "print(result_matrix)\n",
    "\n"
   ]
  },
  {
   "cell_type": "markdown",
   "metadata": {},
   "source": [
    "8. Вычислите cos(x) и sin(x) на интервале [0,1] с шагом $0.05$, а затем объедините оба массива чисел как строки в один массив."
   ]
  },
  {
   "cell_type": "code",
   "execution_count": 9,
   "metadata": {},
   "outputs": [
    {
     "name": "stdout",
     "output_type": "stream",
     "text": [
      "[1.         0.99875026 0.99500417 0.98877108 0.98006658 0.96891242\n",
      " 0.95533649 0.93937271 0.92106099 0.9004471  0.87758256 0.85252452\n",
      " 0.82533561 0.7960838  0.76484219 0.73168887 0.69670671 0.65998315\n",
      " 0.62160997 0.58168309 0.54030231 0.         0.04997917 0.09983342\n",
      " 0.14943813 0.19866933 0.24740396 0.29552021 0.34289781 0.38941834\n",
      " 0.43496553 0.47942554 0.52268723 0.56464247 0.60518641 0.64421769\n",
      " 0.68163876 0.71735609 0.75128041 0.78332691 0.8134155  0.84147098]\n"
     ]
    }
   ],
   "source": [
    "import numpy as np\n",
    "\n",
    "# Определение интервала [0, 1] с шагом 0.05\n",
    "x = np.arange(0, 1.05, 0.05)\n",
    "\n",
    "# Вычисление cos(x) и sin(x)\n",
    "cos_values = np.cos(x)\n",
    "sin_values = np.sin(x)\n",
    "\n",
    "# Объединение результатов в один массив\n",
    "combined_array = np.concatenate((cos_values, sin_values))\n",
    "\n",
    "# Вывод результата\n",
    "print(combined_array)\n",
    "\n"
   ]
  },
  {
   "cell_type": "markdown",
   "metadata": {},
   "source": [
    "9. Создайте матрицу $A$ размера $3×5$ из случайных чисел с равномерным распределением на отрезке $[-1,3]$ (используйте np.random.rand)"
   ]
  },
  {
   "cell_type": "code",
   "execution_count": 11,
   "metadata": {},
   "outputs": [
    {
     "name": "stdout",
     "output_type": "stream",
     "text": [
      "[[-0.22628025 -0.66623392  2.66456177 -0.34090908  2.84725545]\n",
      " [ 0.99206153  1.26651953 -0.02424737  0.30009494  0.82304539]\n",
      " [-0.80201975  0.95242323  0.93528729  0.7429465   0.77675653]]\n"
     ]
    }
   ],
   "source": [
    "import numpy as np\n",
    "\n",
    "A = np.random.uniform(-1, 3, (3, 5))\n",
    "print(A)\n"
   ]
  },
  {
   "cell_type": "markdown",
   "metadata": {},
   "source": [
    "10. Найдите сумму всех элементов, сумму внутри строк, сумму внутри столбцов, а также среднее значение, дисперсию и стандартное отклонение чисел для каждой строки матрицы $A$. (Подобно тому, как sorted имеет необязательный аргумент key=, многие функции Numpy имеют необязательный аргумент axis=)\n"
   ]
  },
  {
   "cell_type": "code",
   "execution_count": 12,
   "metadata": {},
   "outputs": [
    {
     "name": "stdout",
     "output_type": "stream",
     "text": [
      "Сумма всех элементов: 45\n",
      "Сумма внутри строк: [ 6 15 24]\n",
      "Сумма внутри столбцов: [12 15 18]\n",
      "Среднее значение для каждой строки: [2. 5. 8.]\n",
      "Дисперсия для каждой строки: [0.66666667 0.66666667 0.66666667]\n",
      "Стандартное отклонение для каждой строки: [0.81649658 0.81649658 0.81649658]\n"
     ]
    }
   ],
   "source": [
    "import numpy as np\n",
    "\n",
    "# Создание матрицы A\n",
    "A = np.array([[1, 2, 3],\n",
    "              [4, 5, 6],\n",
    "              [7, 8, 9]])\n",
    "\n",
    "# Сумма всех элементов\n",
    "total_sum = np.sum(A)\n",
    "\n",
    "# Сумма внутри строк\n",
    "row_sums = np.sum(A, axis=1)\n",
    "\n",
    "# Сумма внутри столбцов\n",
    "column_sums = np.sum(A, axis=0)\n",
    "\n",
    "# Среднее значение для каждой строки\n",
    "row_means = np.mean(A, axis=1)\n",
    "\n",
    "# Дисперсия для каждой строки\n",
    "row_variances = np.var(A, axis=1)\n",
    "\n",
    "# Стандартное отклонение для каждой строки\n",
    "row_stddevs = np.std(A, axis=1)\n",
    "\n",
    "print(\"Сумма всех элементов:\", total_sum)\n",
    "print(\"Сумма внутри строк:\", row_sums)\n",
    "print(\"Сумма внутри столбцов:\", column_sums)\n",
    "print(\"Среднее значение для каждой строки:\", row_means)\n",
    "print(\"Дисперсия для каждой строки:\", row_variances)\n",
    "print(\"Стандартное отклонение для каждой строки:\", row_stddevs)\n"
   ]
  },
  {
   "cell_type": "markdown",
   "metadata": {},
   "source": [
    "11.  Отнимите от каждого элемента матрицы $A$ среднее по строке и поделите на стандартное отклонение строки."
   ]
  },
  {
   "cell_type": "code",
   "execution_count": 16,
   "metadata": {},
   "outputs": [
    {
     "name": "stdout",
     "output_type": "stream",
     "text": [
      "[[-1.06904497 -0.26726124  1.33630621]\n",
      " [-1.33630621  1.06904497  0.26726124]\n",
      " [ 1.30740289 -1.12063105 -0.18677184]]\n"
     ]
    }
   ],
   "source": [
    "import numpy as np\n",
    "\n",
    "def normalize_matrix(A):\n",
    "    # Вычисляем среднее значение каждой строки\n",
    "    row_means = np.mean(A, axis=1)\n",
    "    \n",
    "    # Вычисляем стандартное отклонение каждой строки\n",
    "    row_stdevs = np.std(A, axis=1)\n",
    "    \n",
    "    # Вычисляем количество строк и столбцов в матрице А\n",
    "    m, n = A.shape\n",
    "    \n",
    "    # Создаем пустую матрицу B той же размерности, что и матрица А\n",
    "    B = np.zeros((m, n))\n",
    "    \n",
    "    # Отнимаем от каждого элемента строки его среднее значение\n",
    "    for i in range(m):\n",
    "        B[i, :] = A[i, :] - row_means[i]\n",
    "    \n",
    "    # Разделяем каждый элемент строки на соответствующее стандартное отклонение\n",
    "    for i in range(m):\n",
    "        B[i, :] = B[i, :] / row_stdevs[i]\n",
    "    \n",
    "    return B\n",
    "\n",
    "# Пример использования\n",
    "A = np.array([[1, 5, 3],\n",
    "              [4, 7, 6],\n",
    "              [17, 4, 9]])\n",
    "\n",
    "B = normalize_matrix(A)\n",
    "print(B)\n"
   ]
  },
  {
   "cell_type": "markdown",
   "metadata": {},
   "source": [
    "12. Отсортируйте матрицу $A$ по 3-ому столбцу, т.е. поменяйте местами строки матрицы так, чтобы 3-й столбец оказался отсортированным. Используйте для этого slicing + argsort + indexing."
   ]
  },
  {
   "cell_type": "code",
   "execution_count": 17,
   "metadata": {},
   "outputs": [
    {
     "name": "stdout",
     "output_type": "stream",
     "text": [
      "[[1 6 3]\n",
      " [4 2 5]\n",
      " [7 2 9]]\n"
     ]
    }
   ],
   "source": [
    "import numpy as np\n",
    "\n",
    "A = np.array([[4, 2, 5],\n",
    "              [1, 6, 3],\n",
    "              [7, 2, 9]])\n",
    "\n",
    "sorted_indices = np.argsort(A[:, 2])\n",
    "sorted_A = A[sorted_indices]\n",
    "\n",
    "print(sorted_A)\n"
   ]
  },
  {
   "cell_type": "markdown",
   "metadata": {},
   "source": [
    "13. Посчитайте две матрицы: $B = A^TA$ и $C = AA^T$. Что вы можете о них сказать? Какого они размера? В чём их сходство и отличие?"
   ]
  },
  {
   "cell_type": "code",
   "execution_count": 18,
   "metadata": {},
   "outputs": [
    {
     "name": "stdout",
     "output_type": "stream",
     "text": [
      "Матрица B:\n",
      "[[14 16]\n",
      " [16 21]]\n",
      "Размер матрицы B: (2, 2)\n",
      "\n",
      "Матрица C:\n",
      "[[ 5 10  4]\n",
      " [10 25 11]\n",
      " [ 4 11  5]]\n",
      "Размер матрицы C: (3, 3)\n"
     ]
    }
   ],
   "source": [
    "import numpy as np\n",
    "\n",
    "A = np.array([[2, 1],\n",
    "              [3, 4],\n",
    "              [1, 2]])\n",
    "\n",
    "B = np.dot(A.T, A)\n",
    "C = np.dot(A, A.T)\n",
    "\n",
    "print(\"Матрица B:\")\n",
    "print(B)\n",
    "print(\"Размер матрицы B:\", B.shape)\n",
    "\n",
    "print(\"\\nМатрица C:\")\n",
    "print(C)\n",
    "print(\"Размер матрицы C:\", C.shape)\n"
   ]
  },
  {
   "cell_type": "markdown",
   "metadata": {},
   "source": [
    "14. Найдите сумму диагональных элементов матриц $B$ и $C$."
   ]
  },
  {
   "cell_type": "code",
   "execution_count": 19,
   "metadata": {},
   "outputs": [
    {
     "name": "stdout",
     "output_type": "stream",
     "text": [
      "Матрица B:\n",
      "[[14 16]\n",
      " [16 21]]\n",
      "Размер матрицы B: (2, 2)\n",
      "\n",
      "Матрица C:\n",
      "[[ 5 10  4]\n",
      " [10 25 11]\n",
      " [ 4 11  5]]\n",
      "Размер матрицы C: (3, 3)\n",
      "\n",
      "Сумма диагональных элементов матрицы B: 35\n",
      "Сумма диагональных элементов матрицы C: 35\n"
     ]
    }
   ],
   "source": [
    "import numpy as np\n",
    "\n",
    "A = np.array([[2, 1],\n",
    "              [3, 4],\n",
    "              [1, 2]])\n",
    "\n",
    "B = np.dot(A.T, A)\n",
    "C = np.dot(A, A.T)\n",
    "\n",
    "print(\"Матрица B:\")\n",
    "print(B)\n",
    "print(\"Размер матрицы B:\", B.shape)\n",
    "\n",
    "print(\"\\nМатрица C:\")\n",
    "print(C)\n",
    "print(\"Размер матрицы C:\", C.shape)\n",
    "\n",
    "sum_B = np.trace(B)\n",
    "sum_C = np.trace(C)\n",
    "\n",
    "print(\"\\nСумма диагональных элементов матрицы B:\", sum_B)\n",
    "print(\"Сумма диагональных элементов матрицы C:\", sum_C)\n"
   ]
  },
  {
   "cell_type": "markdown",
   "metadata": {},
   "source": [
    "15.\tПосчитайте детерминант и ранг матриц $A$, $B$ и $C$, посмотрите на спектр (набор собственных значений) матриц $B$ и $C$, какие выводы вы можете сделать?  \n",
    "(подсказка: используйте готовые функции из библиотеки np.linalg). \n"
   ]
  },
  {
   "cell_type": "code",
   "execution_count": 24,
   "metadata": {},
   "outputs": [
    {
     "name": "stdout",
     "output_type": "stream",
     "text": [
      "37.99999999999999\n",
      "0.0\n",
      "2\n",
      "2\n",
      "2\n",
      "[ 1.12166065 33.87833935]\n",
      "[ 1.12166065 33.87833935]\n"
     ]
    }
   ],
   "source": [
    "#print(np.linalg.det(matrix)) A не квадратная, ошибка.\n",
    "print(np.linalg.det(B))\n",
    "print(np.linalg.det(C))\n",
    "print(np.linalg.matrix_rank(matrix))\n",
    "print(np.linalg.matrix_rank(B))\n",
    "print(np.linalg.matrix_rank(C))\n",
    "w_b, v_b = np.linalg.eig(B)\n",
    "w_c, v_b = np.linalg.eig(B)\n",
    "print(w_b)\n",
    "print(w_c)"
   ]
  },
  {
   "cell_type": "markdown",
   "metadata": {},
   "source": [
    "16. Численно посчитать определённый интеграл  3-мя методами:  \n",
    "a)\tПрямоугольников $\\int\\limits_a^b {f(x)dx \\approx \\Delta x\\sum\\limits_{k = 0}^N {f({x_k})} }$  \n",
    "b)\tТрапеций $\\int\\limits_a^b {f(x)dx \\approx \\frac{{\\Delta x}}{2}\\left( {f({x_0}) + 2\\sum\\limits_{k = 1}^{N - 1} {f({x_k})}  + f({x_N})} \\right)}$  \n",
    "c)\tПо правилу Симпсона  $\\int\\limits_a^b {f(x)dx \\approx \\frac{{\\Delta x}}{3}\\left( {f({x_0}) + 2\\sum\\limits_{k = 1}^{N/2 - 1} {f({x_{2k}})}  + 4\\sum\\limits_{k = 1}^{N/2} {f({x_{2k - 1}})}  + f({x_N})} \\right)}$  \n",
    "\n",
    "\n",
    "В реализации этих методов цикл for для суммирования использовать нельзя.  \n",
    "Нужно посчитать значение интеграла с некоторым шагом интегрирования (например начать с 0.1), потом уменьшить его в десять раз и ещё раз посчитать и так до тех пор пока отличие в ответах будет в 5-м знаке после запятой, т.е. чтобы ошибка была меньше 1e-5. Получить ответы для 3-х разных методов и сделать соответствующие выводы.  \n",
    "\n",
    "Далее необходимо сравнить полученные оценки с аналитическим решением (т.е. формульным, которое вы должны сами посчитать на листочке и вбить формулу-ответ).   \n",
    "\n",
    "В качестве интеграла взять два из следующих примеров:  \n",
    "- один с номером, сгенерированным случайным образом с помощью функции np.random.randint(9), в качестве seed для генератора случайных чисел взять номер своего студенческого билета. \n",
    "- второй номер - под номером 9, несобственный интерграл. Подумайте, как сделать подбор шага интегрирования адаптивным.\n",
    "\n",
    "<table width=\"80%\"\n",
    "       align=\"center\">\n",
    "    <tr>\n",
    "        <td> 0) $\\int\\limits_3^4 {\\frac{{{x^2} + 3}}{{x - 2}}dx}$ </td>\n",
    "        <td> 1) $\\int\\limits_{ - 2}^{ - 1} {\\frac{{x + 1}}{{{x^3} - {x^2}}}dx}$ </td>\n",
    "        <td> 2) $\\int\\limits_1^2 {\\frac{{{e^{1/{x^2}}}}}{{{x^3}}}dx}$ </td>\n",
    "        <td> 3) $\\int\\limits_1^e {\\frac{{\\cos (\\ln x)}}{x}dx}$ </td>\n",
    "        <td> 4) $\\int\\limits_1^e {\\frac{{dx}}{{x(1 + {{\\ln }^2}x)}}}$ </td>\n",
    "    </tr>                \n",
    "    <tr>\n",
    "        <td> 5) $\\int\\limits_0^{\\pi /2} {{{\\cos }^3}\\alpha \\;d\\alpha }$ </td>\n",
    "        <td> 6) $\\int\\limits_0^{1/3} {c{h^2}3x\\;dx}$ </td>\n",
    "        <td> 7) $\\int\\limits_2^3 {\\frac{{dy}}{{{y^2} - 2y - 8}}dy}$ </td>\n",
    "        <td> 8) $\\int\\limits_0^2 {\\frac{{2x - 1}}{{2x + 1}}dx}$ </td>\n",
    "        <td> 9) $\\int\\limits_{3/4}^2 {\\frac{{dx}}{{\\sqrt {2 + 3x - 2{x^2}} }}}$ </td>\n",
    "        </tr>\n",
    "</table>"
   ]
  },
  {
   "cell_type": "code",
   "execution_count": 25,
   "metadata": {},
   "outputs": [
    {
     "data": {
      "text/plain": [
       "1"
      ]
     },
     "execution_count": 25,
     "metadata": {},
     "output_type": "execute_result"
    }
   ],
   "source": [
    "np.random.seed(1032205074)\n",
    "np.random.randint(9)"
   ]
  },
  {
   "cell_type": "code",
   "execution_count": 26,
   "metadata": {},
   "outputs": [
    {
     "name": "stdout",
     "output_type": "stream",
     "text": [
      "Аналитическое решение интеграла 1:  0.07536414490356158\n",
      "Аналитическое решение интеграла 2:  1.1107207345395915\n"
     ]
    }
   ],
   "source": [
    "print('Аналитическое решение интеграла 1: ', -2 * np.log(3) + 4 * np.log(2) - 1/2)\n",
    "print('Аналитическое решение интеграла 2: ', np.pi/(2**(3/2)))"
   ]
  },
  {
   "cell_type": "code",
   "execution_count": 27,
   "metadata": {},
   "outputs": [
    {
     "name": "stdout",
     "output_type": "stream",
     "text": [
      "Для интеграла 1: 0.07536077471587936 Для интеграла 9: 1.1041419998928388\n",
      "Для интеграла 1: 0.07535660804921268 Для интеграла 9: 1.1041172156215913\n",
      "Для интеграла 1: 0.07535660765565484 Для интеграла 9: 1.1032101773676126\n"
     ]
    }
   ],
   "source": [
    "def func1(x):\n",
    "    return (x+1)/(x**3-x**2)\n",
    "\n",
    "def func2(x):\n",
    "    return 1/np.sqrt(2+3*x-2*x**2, where = x!=2)\n",
    "\n",
    "def solution(func,a, b, dx, method):\n",
    "    n = int((b-a) / dx)\n",
    "    xx = np.linspace(a, b, n)\n",
    "    if method == 'rectangular':\n",
    "        return dx*np.sum(func(xx))\n",
    "    elif method == 'trapezoid':\n",
    "        return dx/2*(func(xx[0]) + 2*np.sum(func(xx[1:-1])) + func(xx[-1]))\n",
    "    elif method == 'simpson':\n",
    "        return dx/3*(func(xx[0]) + 2*np.sum(func(xx[2:-1:2])) + 4*np.sum(func(xx[1:-2:2])) + func(xx[-1]))\n",
    "    else:\n",
    "        return 'Неверный метод'\n",
    "    \n",
    "print('Для интеграла 1:', solution(func1, -2, -1, 0.0001, 'rectangular'), 'Для интеграла 9:', solution(func2, 3/4, 2, 0.0001, 'rectangular') )\n",
    "print('Для интеграла 1:', solution(func1, -2, -1, 0.0001, 'trapezoid'), 'Для интеграла 9:', solution(func2, 3/4, 2, 0.0001, 'trapezoid') )\n",
    "print('Для интеграла 1:', solution(func1, -2, -1, 0.0001, 'simpson'), 'Для интеграла 9:', solution(func2, 3/4, 2, 0.0001, 'simpson') )"
   ]
  },
  {
   "cell_type": "code",
   "execution_count": null,
   "metadata": {},
   "outputs": [],
   "source": []
  }
 ],
 "metadata": {
  "kernelspec": {
   "display_name": "Python 3 (ipykernel)",
   "language": "python",
   "name": "python3"
  },
  "language_info": {
   "codemirror_mode": {
    "name": "ipython",
    "version": 3
   },
   "file_extension": ".py",
   "mimetype": "text/x-python",
   "name": "python",
   "nbconvert_exporter": "python",
   "pygments_lexer": "ipython3",
   "version": "3.8.5"
  }
 },
 "nbformat": 4,
 "nbformat_minor": 2
}
